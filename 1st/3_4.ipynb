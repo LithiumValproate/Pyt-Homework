{
 "cells": [
  {
   "metadata": {},
   "cell_type": "markdown",
   "source": "34. 编写函数计算输入数据的平均值、方差、中位数",
   "id": "5a5cf750d9ae664c"
  },
  {
   "metadata": {},
   "cell_type": "code",
   "source": [
    "def show_statistics(data: list):\n",
    "    from numpy import mean, var, median\n",
    "    if not data:\n",
    "        return None, None, None\n",
    "    return mean(data), var(data), median(data)\n",
    "\n",
    "raw = input('Input numbers separated by space or comma: \\n')\n",
    "parts = [p for p in raw.replace(',', ' ').split()]\n",
    "try:\n",
    "    nums = [float(p) for p in parts]\n",
    "except ValueError:\n",
    "    print('Invalid input. Please enter numbers only.')\n",
    "else:\n",
    "    ans = show_statistics(nums)\n",
    "    if ans:\n",
    "        print(f'Mean: {ans[0]:.4f}, Variance: {ans[1]:.4f}, Median: {ans[2]}')\n",
    "    else:\n",
    "        print('No data provided.')"
   ],
   "id": "d999773c7ca09cf0",
   "outputs": [],
   "execution_count": null
  },
  {
   "metadata": {},
   "cell_type": "markdown",
   "source": "35. 定义函数判断三角形类型",
   "id": "ae0f3ef65058fac"
  },
  {
   "metadata": {},
   "cell_type": "code",
   "source": [
    "def triangle(a, b, c) -> str:\n",
    "    if not all(isinstance(x, (int, float)) and x > 0 for x in (a, b, c)):\n",
    "        return 'Error: sides must be positive numbers'\n",
    "    a, b, c = sorted((a, b, c))\n",
    "    if a + b <= c:\n",
    "        return 'Not a triangle'\n",
    "    typ = 'Equilateral' if a == b == c else 'Isosceles' if a == b or b == c else 'Scalene'\n",
    "    s = a * a + b * b - c * c\n",
    "    ag = 'Right' if s == 0 else 'Acute' if s > 0 else 'Obtuse'\n",
    "    return f'{typ}, {ag}'\n",
    "\n",
    "raw = input('Enter the lengths of the three sides separated by space or comma: \\n')\n",
    "parts = [p for p in raw.replace(',', ' ').split()]\n",
    "try:\n",
    "    sides = [float(p) for p in parts]\n",
    "except ValueError:\n",
    "    print('Invalid input. Please enter three numbers only.')\n",
    "else:\n",
    "    result = triangle(*sides)\n",
    "    print(f'Triangle type: {result}')"
   ],
   "id": "a2ad8663d6b9b73b",
   "outputs": [],
   "execution_count": null
  },
  {
   "metadata": {},
   "cell_type": "markdown",
   "source": "36. 编写函数，根据身份证号码输出年龄和生肖",
   "id": "5ddcc481de96bbb3"
  },
  {
   "metadata": {},
   "cell_type": "code",
   "source": [
    "from datetime import datetime as dt\n",
    "import re\n",
    "\n",
    "ZODIAC = ('Rat', 'Ox', 'Tiger', 'Rabbit', 'Loong', 'Snake',\n",
    "          'Horse', 'Goat', 'Monkey', 'Rooster', 'Dog', 'Pig')\n",
    "\n",
    "def get_info(id_number: str):\n",
    "    if len(id_number) != 18 or not id_number[:-1].isdigit() or not re.match(r'[\\dXx]', id_number[-1]):\n",
    "        return 'Error: Invalid ID number format'\n",
    "    try:\n",
    "        birthdate = dt.strptime(id_number[6:14], '%Y%m%d')\n",
    "    except ValueError:\n",
    "        return 'Error: Invalid date'\n",
    "    if birthdate > dt.now():\n",
    "        return 'Error: Birthdate is in the future'\n",
    "    birthyear = birthdate.year\n",
    "    age = dt.now().year - birthyear\n",
    "    zodiac = ZODIAC[(birthyear - 1900) % 12]\n",
    "    return age, zodiac\n",
    "\n",
    "id_number = input('Enter your 18-digit ID number: \\n').strip()\n",
    "info = get_info(id_number)\n",
    "print(f'Age: {info[0]}, Zodiac: {info[1]}' if isinstance(info, tuple) else info)"
   ],
   "id": "640e78687beb8580",
   "outputs": [],
   "execution_count": null
  }
 ],
 "metadata": {
  "kernelspec": {
   "display_name": "Python 3",
   "language": "python",
   "name": "python3"
  },
  "language_info": {
   "codemirror_mode": {
    "name": "ipython",
    "version": 2
   },
   "file_extension": ".py",
   "mimetype": "text/x-python",
   "name": "python",
   "nbconvert_exporter": "python",
   "pygments_lexer": "ipython2",
   "version": "2.7.6"
  }
 },
 "nbformat": 4,
 "nbformat_minor": 5
}
