{
 "cells": [
  {
   "metadata": {},
   "cell_type": "markdown",
   "source": "46. 编写一个程序，模拟用户登录验证。假设系统中有一个合法用户，用户名为abc，密码为123。程序运行时提示用户输入用户名和密码，如果输入正确，则显示“登录成功”，否则提示“用户名或密码错误”，并允许用户重新输入，最多三次，三次均错误则显示“3次输入错误，请稍后再试”，并退出程序。",
   "id": "45683eb725291469"
  },
  {
   "cell_type": "code",
   "execution_count": null,
   "id": "initial_id",
   "metadata": {
    "collapsed": true
   },
   "outputs": [],
   "source": [
    "USER_NAME = 'abc'\n",
    "PASSWORD = '123'\n",
    "\n",
    "\n",
    "def verify(n, p: str):\n",
    "    if n == USER_NAME and p == PASSWORD:\n",
    "        return True\n",
    "    return False\n",
    "\n",
    "\n",
    "r = 0\n",
    "while r < 3:\n",
    "    name = input('请输入用户名')\n",
    "    pwd = input('请输入密码')\n",
    "    if verify(name, pwd):\n",
    "        print('登陆成功')\n",
    "        exit(0)\n",
    "    else:\n",
    "        print('用户名或密码错误')\n",
    "        r += 1\n",
    "else:\n",
    "    print('3次输入错误，请稍后再试')"
   ]
  },
  {
   "metadata": {},
   "cell_type": "markdown",
   "source": "47. 编写一个程序，找出100到400之间的所有水仙花数，并打印出来。所谓水仙花数是指一个3位数，其各位数字的立方和等于该数本身。例如：153=1^3+5^3+3^3。",
   "id": "4a12e95389179236"
  },
  {
   "metadata": {},
   "cell_type": "code",
   "outputs": [],
   "execution_count": null,
   "source": [
    "def get_digit(num: int) -> list:\n",
    "    res = []\n",
    "    while True:\n",
    "        res.append(num % 10)\n",
    "        num //= 10\n",
    "        if not num:\n",
    "            break\n",
    "    return res\n",
    "\n",
    "\n",
    "def is_narcissistic(num: int):\n",
    "    digits = get_digit(num)\n",
    "    tot = 0\n",
    "    for d in digits:\n",
    "        tot += d ** 3\n",
    "    if tot == num:\n",
    "        return True\n",
    "    else:\n",
    "        return False\n",
    "\n",
    "\n",
    "for i in range(100, 401):\n",
    "    if is_narcissistic(i):\n",
    "        print(i)"
   ],
   "id": "fad228da5d582b46"
  },
  {
   "metadata": {},
   "cell_type": "markdown",
   "source": "48. 编写一个程序，计算圆柱体的体积。程序运行时提示用户输入圆柱体的半径和高度，然后计算并显示圆柱体的体积。圆柱体的体积公式为V=πr^2h，其中r为半径，h为高度，π取3.14。要求对用户输入进行验证，确保输入的半径和高度为正数，否则提示用户重新输入。",
   "id": "dadd99803f712128"
  },
  {
   "metadata": {},
   "cell_type": "code",
   "outputs": [],
   "execution_count": null,
   "source": [
    "PI = 3.14\n",
    "\n",
    "\n",
    "def input_judge(i):\n",
    "    try:\n",
    "        num = int(i)\n",
    "        if num > 0:\n",
    "            return num\n",
    "    except ValueError:\n",
    "        print('Invalid input')\n",
    "\n",
    "\n",
    "while True:\n",
    "    r = input('Radius = ')\n",
    "    if (radius := input_judge(r)) is not None:\n",
    "        break\n",
    "while True:\n",
    "    h = input('Height = ')\n",
    "    if (height := input_judge(h)) is not None:\n",
    "        break\n",
    "volume = PI * height * radius ** 2\n",
    "print(f'Volume = {volume:.2f}')"
   ],
   "id": "cf00a71f327fad9f"
  },
  {
   "metadata": {},
   "cell_type": "markdown",
   "source": "49. 编写一个程序，找出0到200之间的所有素数，并将它们打印出来。素数是指只能被1和它本身整除的自然数，例如2、3、5、7、11等。要求每行打印6个素数，数字之间用空格分隔。",
   "id": "dae62008c00b97c8"
  },
  {
   "metadata": {},
   "cell_type": "code",
   "outputs": [],
   "execution_count": null,
   "source": [
    "def is_prime(num):\n",
    "    if num < 2:\n",
    "        return False\n",
    "    for i in range(2, int(num ** 0.5) + 1):\n",
    "        if num % i == 0:\n",
    "            return False\n",
    "    return True\n",
    "\n",
    "\n",
    "primes = []\n",
    "for n in range(0, 201):\n",
    "    if is_prime(n):\n",
    "        primes.append(n)\n",
    "for i in range(0, len(primes), 6):\n",
    "    print(*primes[i:i + 6])"
   ],
   "id": "d181974afb739dfb"
  },
  {
   "metadata": {},
   "cell_type": "markdown",
   "source": "50. 编写一个程序，找出1000以内所有能被3、5、7整除的数，并计算这些数的最小公倍数，然后找出比该最小公倍数小于1000的最大数。",
   "id": "8a9801b695c6206f"
  },
  {
   "metadata": {},
   "cell_type": "code",
   "outputs": [],
   "execution_count": null,
   "source": [
    "def gcd(a, b):\n",
    "    while b:\n",
    "        a, b = b, a % b\n",
    "    return a\n",
    "\n",
    "def lcm(a, b):\n",
    "    return a * b // gcd(a, b)\n",
    "\n",
    "x = lcm(lcm(3, 5), 7)\n",
    "ans = x - 1\n",
    "while ans <= 1000:\n",
    "    ans += x\n",
    "print(ans)"
   ],
   "id": "5c51c31e37513b05"
  },
  {
   "metadata": {},
   "cell_type": "markdown",
   "source": "51. 编写一个程序，解决“鸡兔同笼”问题。假设笼子里有若干只鸡和兔子，共有30个头，90只脚。请编写一个程序，计算出鸡和兔子的数量，并打印出来。要求使用numpy库中的线性代数方法来求解该问题。",
   "id": "96893b41c885ef51"
  },
  {
   "metadata": {},
   "cell_type": "code",
   "outputs": [],
   "execution_count": null,
   "source": [
    "import numpy as np\n",
    "\n",
    "\n",
    "def solve_chicken_rabbit(heads, legs):\n",
    "    A = np.array([[1, 1],\n",
    "                  [2, 4]])\n",
    "    b = np.array([heads, legs])\n",
    "    x = np.linalg.solve(A, b)\n",
    "    chicken, rabbit = x\n",
    "    return chicken, rabbit\n",
    "\n",
    "\n",
    "heads, legs = 30, 90\n",
    "chicken, rabbit = solve_chicken_rabbit(heads, legs)\n",
    "if chicken.is_integer() and rabbit.is_integer() and chicken >= 0 and rabbit >= 0:\n",
    "    print(f'鸡有 {int(chicken)} 只，兔有 {int(rabbit)} 只。')\n",
    "else:\n",
    "    print('没有整数解')"
   ],
   "id": "cd7434b3d24ff10"
  },
  {
   "metadata": {},
   "cell_type": "markdown",
   "source": "52. 编写一个程序，计算1到n的平方和，其中n是用户输入的正整数。程序运行时提示用户输入n，然后计算并显示1到n的平方和。如果用户输入的不是正整数，则提示用户重新输入。",
   "id": "472325ac82b00311"
  },
  {
   "metadata": {},
   "cell_type": "code",
   "outputs": [],
   "execution_count": null,
   "source": [
    "n = int(input('Input n: '))\n",
    "if n > 0:\n",
    "    ans = 0\n",
    "    for i in range(1, n + 1):\n",
    "        ans += i ** 2\n",
    "    print(ans)\n",
    "else:\n",
    "    print('Invalid input')"
   ],
   "id": "f7a384cf58c0aa24"
  },
  {
   "metadata": {},
   "cell_type": "markdown",
   "source": "53. 编写一个程序，模拟简单的成绩评定系统。程序运行时提示用户输入一个0到100之间的分数，然后根据分数的范围输出相应的评定结果。具体评定标准如下：90分以上为“优秀”，70到89分为“良好”，60到69分为“及格”，60分以下为“补考”。如果用户输入的分数不在0到100之间，则提示用户输入无效。",
   "id": "19bbdb5cf8547e7f"
  },
  {
   "metadata": {},
   "cell_type": "code",
   "outputs": [],
   "execution_count": null,
   "source": [
    "p = int(input('Input points: '))\n",
    "if p < 0 or p > 100:\n",
    "    print('Invalid input')\n",
    "elif p > 90:\n",
    "    print('优秀')\n",
    "elif p > 70:\n",
    "    print('良好')\n",
    "elif p >= 60:\n",
    "    print('及格')\n",
    "else:\n",
    "    print('补考')"
   ],
   "id": "1dc5b89de5cf2b8e"
  },
  {
   "metadata": {},
   "cell_type": "markdown",
   "source": "54. 编写一个程序，判断用户输入的身份证号是男性还是女性。程序运行时提示用户输入一个18位的身份证号，然后根据身份证号的第17位数字判断性别。奇数表示男性，偶数表示女性。如果用户输入的身份证号不是18位数字，则提示用户输入无效。",
   "id": "c793aa792156382d"
  },
  {
   "metadata": {},
   "cell_type": "code",
   "outputs": [],
   "execution_count": null,
   "source": [
    "while True:\n",
    "    id_ = input('请输入身份证号: ')\n",
    "    if len(id_) != 18:\n",
    "        print('身份证号长度应为18位')\n",
    "        continue\n",
    "    if not id_[:17].isdigit():\n",
    "        print('身份证号前17位应为数字')\n",
    "        continue\n",
    "    if int(id_[16]) % 2:\n",
    "        print('男性')\n",
    "    else:\n",
    "        print('女性')\n",
    "    break"
   ],
   "id": "b13722addafa0d51"
  },
  {
   "metadata": {},
   "cell_type": "markdown",
   "source": "55. 计算1+5+9+...+49的值",
   "id": "92ac2c2c81cb98db"
  },
  {
   "metadata": {},
   "cell_type": "code",
   "outputs": [],
   "execution_count": null,
   "source": [
    "ans = 0\n",
    "for i in range(1, 50, 4):\n",
    "    ans += i\n",
    "print(ans)"
   ],
   "id": "2cb0d324d885a1a7"
  }
 ],
 "metadata": {
  "kernelspec": {
   "display_name": "Python 3",
   "language": "python",
   "name": "python3"
  },
  "language_info": {
   "codemirror_mode": {
    "name": "ipython",
    "version": 2
   },
   "file_extension": ".py",
   "mimetype": "text/x-python",
   "name": "python",
   "nbconvert_exporter": "python",
   "pygments_lexer": "ipython2",
   "version": "2.7.6"
  }
 },
 "nbformat": 4,
 "nbformat_minor": 5
}
